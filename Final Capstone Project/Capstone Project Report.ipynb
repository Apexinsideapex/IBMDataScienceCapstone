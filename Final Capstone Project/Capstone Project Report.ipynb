{
 "cells": [
  {
   "cell_type": "markdown",
   "metadata": {},
   "source": [
    "<h1 align='center'>Project Report"
   ]
  },
  {
   "cell_type": "markdown",
   "metadata": {},
   "source": [
    "<hr>"
   ]
  },
  {
   "cell_type": "markdown",
   "metadata": {},
   "source": [
    "<h2>1. Introduction/Business Problem"
   ]
  },
  {
   "cell_type": "markdown",
   "metadata": {},
   "source": [
    "<p>This project is viewed from the perspective of an owner of an Italian restaurant. The said owner wants to open up another restaurant in Toronto where he/she currently has no outlets. The goal of this analysis is to find out which neighborhood(s) are ideal for opening an Italian restaurant. \n",
    "   <br>The ideal audience for this would be Italian restaurant owners trying to set up shop in a new location and for investors to check the feasibility of the project. "
   ]
  },
  {
   "cell_type": "markdown",
   "metadata": {},
   "source": [
    "<h2>2. Data"
   ]
  },
  {
   "cell_type": "markdown",
   "metadata": {},
   "source": [
    "<p>The data is gathered from Wikipedia and Foursquare.\n",
    "<br>Wikipedia provides the names and borough of the different neighborhoods in Toronto.\n",
    "<br>The data from Foursquare is used to gain information on the above mentioned neighborhoods, specifically the number of Italian restaurants in the neighborhoods. \n",
    "    <br>\n",
    "\n",
    "\n",
    "By leveraging the data from the foursqaure API we get to know the places where there is an abundance of Italian restaurants and areas where there aren't many. This data can be leveraged to pick an ideal location to set up shop. \n",
    "\n"
   ]
  },
  {
   "cell_type": "markdown",
   "metadata": {},
   "source": [
    "<b>Example of the neighborhood data is as follows:"
   ]
  },
  {
   "cell_type": "markdown",
   "metadata": {},
   "source": [
    "<img src='./NeighborhoodDataExample.jpg'>"
   ]
  },
  {
   "cell_type": "markdown",
   "metadata": {},
   "source": [
    "<b>Example of the data the foursquare API will provide"
   ]
  },
  {
   "cell_type": "markdown",
   "metadata": {},
   "source": [
    "<img src='./FoursquareAPIExample.jpg'>"
   ]
  },
  {
   "cell_type": "markdown",
   "metadata": {},
   "source": [
    "<h2>3. Methodology"
   ]
  },
  {
   "cell_type": "markdown",
   "metadata": {},
   "source": [
    "<b><u>This whole analysis works on the assumption that a neighborhood with multiple italian restaurants is a hotspot for Italian Cusine customers and areas with very few Italian restaurants are potential markets. "
   ]
  },
  {
   "cell_type": "markdown",
   "metadata": {},
   "source": [
    "<h3>3.1 Data Collection"
   ]
  },
  {
   "cell_type": "markdown",
   "metadata": {},
   "source": [
    "<p>There are two main data sources from which data must be collected, Wikipedia and Foursquare. <br>The data from Wikipedia gives us the names of the neighborhoods in Cannada and the data from the Foursquare API gives us information on each neighborhood"
   ]
  },
  {
   "cell_type": "markdown",
   "metadata": {},
   "source": [
    "<h3>3.2 Transforming the data"
   ]
  },
  {
   "cell_type": "markdown",
   "metadata": {},
   "source": [
    "<p>After aquiring the data from passing each neighborhood name into the Foursquare API our data looks like this"
   ]
  },
  {
   "cell_type": "markdown",
   "metadata": {},
   "source": [
    "<img src=initialdata.jpg>"
   ]
  },
  {
   "cell_type": "markdown",
   "metadata": {},
   "source": [
    "<h4>3.2.1 Visualising all the restaurants on the map"
   ]
  },
  {
   "cell_type": "markdown",
   "metadata": {},
   "source": [
    "<img src='AllRest.jpg'>"
   ]
  },
  {
   "cell_type": "markdown",
   "metadata": {},
   "source": [
    "<p>The above data shows us all the Italian Restaurants in Toronto, but does not hold much value for our analysis. Therefore, we group the data based on the neighborhood and aggregate it based on the count. The data looks something like this:  "
   ]
  },
  {
   "cell_type": "markdown",
   "metadata": {},
   "source": [
    "<img src='groupeddata.jpg'>"
   ]
  },
  {
   "cell_type": "markdown",
   "metadata": {},
   "source": [
    "<h3>3.3 Analyzing the Data"
   ]
  },
  {
   "cell_type": "markdown",
   "metadata": {},
   "source": [
    "<p>The goal of the analysis is the find the 5 most Italian Restaurant dense areas and the 5 areas with the least density of Italian Restaurants"
   ]
  },
  {
   "cell_type": "markdown",
   "metadata": {},
   "source": [
    "<p>Using the data we have, which is in sorted form we can pull out these 10 neighborhoods."
   ]
  },
  {
   "cell_type": "markdown",
   "metadata": {},
   "source": [
    "<p>The top 5 neighborhoods are: <br><img src='top5neigh.jpg'>"
   ]
  },
  {
   "cell_type": "markdown",
   "metadata": {},
   "source": [
    "The bottom 5 neighborhoods are:"
   ]
  },
  {
   "cell_type": "markdown",
   "metadata": {},
   "source": [
    "<img src='bottom5neigh.jpg'>"
   ]
  },
  {
   "cell_type": "markdown",
   "metadata": {},
   "source": [
    "<h2>4.Results"
   ]
  },
  {
   "cell_type": "markdown",
   "metadata": {},
   "source": [
    "<p>By taking into consideration the assumptions stated above, the green and yellow areas of the map are ideal places to open up an italian restaurant in toronto with Green being the highly dense and yellow being less dense in terms of number of Italian Restaurants per neighborhood. The blue dots are all the neighborhoods in toronto. "
   ]
  },
  {
   "cell_type": "markdown",
   "metadata": {},
   "source": [
    "<img src='./Final.jpg'>"
   ]
  },
  {
   "cell_type": "markdown",
   "metadata": {},
   "source": [
    "<h2>5.Discussions"
   ]
  },
  {
   "cell_type": "markdown",
   "metadata": {},
   "source": [
    "<p>This study can further be improved by acquiring information about the footfall of the italian restaurants which will show us the true density value of Italian Restaurant lovers in each neighborhood, after normalization. \n",
    "<br><br>Another type of data that could be useful is the reviews of such restaurants which can help us beat the competition by overcoming their flaws and coming out withour own unqiue solution to those flaws. "
   ]
  },
  {
   "cell_type": "markdown",
   "metadata": {},
   "source": [
    "<h2>6.Conclusion"
   ]
  },
  {
   "cell_type": "markdown",
   "metadata": {},
   "source": [
    "<p>In conclusion, I would like to state that, based on the assumptions, the areas marked in green on the map are the most ideal areas to set up an Italian Restaurant and the ares in yellow are potential markets"
   ]
  },
  {
   "cell_type": "markdown",
   "metadata": {},
   "source": [
    "I also would like to state that the ideal market strategy would be to set up shop in one of the 'green' neighborhoods and then slowly expand to the 'yellow' neighborhoods as the 'green' neighborhoods already have proof of concept of Italian Restaurants. But this conclusion would require data that I have mentioned in the Discussion section of the report."
   ]
  },
  {
   "cell_type": "markdown",
   "metadata": {},
   "source": [
    "<hr>"
   ]
  },
  {
   "cell_type": "markdown",
   "metadata": {},
   "source": [
    "<h1 align='center'> Thank You!"
   ]
  }
 ],
 "metadata": {
  "kernelspec": {
   "display_name": "Python 3",
   "language": "python",
   "name": "python3"
  },
  "language_info": {
   "codemirror_mode": {
    "name": "ipython",
    "version": 3
   },
   "file_extension": ".py",
   "mimetype": "text/x-python",
   "name": "python",
   "nbconvert_exporter": "python",
   "pygments_lexer": "ipython3",
   "version": "3.6.10"
  }
 },
 "nbformat": 4,
 "nbformat_minor": 4
}
