{
 "cells": [
  {
   "cell_type": "markdown",
   "metadata": {},
   "source": [
    "<h1 align='center'>Project Report"
   ]
  },
  {
   "cell_type": "markdown",
   "metadata": {},
   "source": [
    "<hr>"
   ]
  },
  {
   "cell_type": "markdown",
   "metadata": {},
   "source": [
    "<h2>1. Introduction/Business Problem"
   ]
  },
  {
   "cell_type": "markdown",
   "metadata": {},
   "source": [
    "<p>This project is viewed from the perspective of an owner of an Italian restaurant. The said owner wants to open up another restaurant in Toronto where he/she currently has no outlets. The goal of this analysis is to find out which neighborhood(s) are ideal for opening an Italian restaurant. \n",
    "   <br>The ideal audience for this would be Italian restaurant owners trying to set up shop in a new location and for investors to check the feasibility of the project. "
   ]
  },
  {
   "cell_type": "markdown",
   "metadata": {},
   "source": [
    "<h2>2. Data"
   ]
  },
  {
   "cell_type": "markdown",
   "metadata": {},
   "source": [
    "<p>The data is gathered from Wikipedia and Foursquare.\n",
    "<br>Wikipedia provides the names and borough of the different neighborhoods in Toronto.\n",
    "<br>The data from Foursquare is used to gain information on the above mentioned neighborhoods, specifically the number of Italian restaurants in the neighborhoods. \n",
    "    <br>\n",
    "\n",
    "\n",
    "By leveraging the data from the foursqaure API we get to know the places where there is an abundance of Italian restaurants and areas where there aren't many. This data can be leveraged to pick an ideal location to set up shop. \n",
    "\n"
   ]
  },
  {
   "cell_type": "markdown",
   "metadata": {},
   "source": [
    "<b>Example of the neighborhood data is as follows:"
   ]
  },
  {
   "cell_type": "markdown",
   "metadata": {},
   "source": [
    "<img src='./NeighborhoodDataExample.jpg'>"
   ]
  },
  {
   "cell_type": "markdown",
   "metadata": {},
   "source": [
    "<b>Example of the data the foursquare API will provide"
   ]
  },
  {
   "cell_type": "markdown",
   "metadata": {},
   "source": [
    "<img src='./FoursquareAPIExample.jpg'>"
   ]
  },
  {
   "cell_type": "code",
   "execution_count": null,
   "metadata": {},
   "outputs": [],
   "source": []
  }
 ],
 "metadata": {
  "kernelspec": {
   "display_name": "Python 3",
   "language": "python",
   "name": "python3"
  },
  "language_info": {
   "codemirror_mode": {
    "name": "ipython",
    "version": 3
   },
   "file_extension": ".py",
   "mimetype": "text/x-python",
   "name": "python",
   "nbconvert_exporter": "python",
   "pygments_lexer": "ipython3",
   "version": "3.6.10"
  }
 },
 "nbformat": 4,
 "nbformat_minor": 4
}
